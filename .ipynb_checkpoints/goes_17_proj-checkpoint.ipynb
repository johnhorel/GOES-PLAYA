{
 "cells": [
  {
   "cell_type": "markdown",
   "metadata": {},
   "source": [
    "## First, import the libraries we will use"
   ]
  },
  {
   "cell_type": "code",
   "execution_count": 1,
   "metadata": {},
   "outputs": [],
   "source": [
    "%matplotlib inline\n",
    "\n",
    "import numpy as np\n",
    "from datetime import datetime, timedelta\n",
    "from pyproj import Proj\n",
    "import xarray\n",
    "import matplotlib.pyplot as plt\n",
    "from mpl_toolkits.basemap import Basemap"
   ]
  },
  {
   "cell_type": "markdown",
   "metadata": {},
   "source": [
    "## Open the GOES-17 NetCDF File\n",
    "Using xarray, I assign the opened file to the variable C for the CONUS domain."
   ]
  },
  {
   "cell_type": "code",
   "execution_count": 2,
   "metadata": {},
   "outputs": [],
   "source": [
    "#GOES 16 all in one file\n",
    "#FILE = 'OR_ABI-L2-MCMIPC-M3_G16_s20190422102136_e20190422104509_c20190422105021.nc'\n",
    "\n",
    "#GOES 17 on Amazon, each channel in a different file\n",
    "FILE_5 ='OR_ABI-L2-CMIPC-M3C05_G17_s20190422102163_e20190422104536_c20190422105008.nc'\n",
    "FILE_3 = 'OR_ABI-L2-CMIPC-M3C03_G17_s20190422102163_e20190422104536_c20190422104597.nc'\n",
    "FILE_3 = 'OR_ABI-L2-CMIPM1-M3C03_G17_s20190461730268_e20190461730326_c20190461730375.nc'\n",
    "File_5 = 'OR_ABI-L2-CMIPM1-M3C05_G17_s20190461730268_e20190461730326_c20190461730375.nc'\n",
    "FILE_3 = 'OR_ABI-L2-CMIPC-M3C03_G17_s20190461732189_e20190461734562_c20190461735029.nc'\n",
    "FILE_5 = 'OR_ABI-L2-CMIPC-M3C05_G17_s20190461732189_e20190461734562_c20190461735030.nc'\n",
    "FILE_3 = 'OR_ABI-L2-CMIPM1-M3C03_G17_s20190461700268_e20190461700326_c20190461700370.nc'\n",
    "FILE_5 = 'OR_ABI-L2-CMIPM1-M3C05_G17_s20190461700268_e20190461700326_c20190461700373.nc'\n",
    "FILE_3 = 'OR_ABI-L2-CMIPC-M3C03_G17_s20190741802189_e20190741804562_c20190741805023.nc'\n",
    "FILE_5 = 'OR_ABI-L2-CMIPC-M3C05_G17_s20190741802189_e20190741804562_c20190741805035.nc'\n",
    "FILE_3 = 'OR_ABI-L2-CMIPC-M3C03_G17_s20190742102189_e20190742104562_c20190742105016.nc'\n",
    "FILE_5 = 'OR_ABI-L2-CMIPC-M3C05_G17_s20190742102189_e20190742104562_c20190742105023.nc'\n",
    "FILE_3 = 'OR_ABI-L2-CMIPC-M3C03_G17_s20190752002189_e20190752004562_c20190752005027.nc'\n",
    "FILE_5 = 'OR_ABI-L2-CMIPC-M3C05_G17_s20190752002189_e20190752004562_c20190752005028.nc'\n",
    "FILE_2 = 'OR_ABI-L2-CMIPC-M3C02_G17_s20190752002189_e20190752004562_c20190752005057.nc'\n",
    "\n",
    "FILE_3_16 = 'OR_ABI-L2-CMIPC-M3C03_G16_s20190752002189_e20190752004562_c20190752005035.nc'\n",
    "FILE_5_16 = 'OR_ABI-L2-CMIPC-M3C05_G16_s20190752002189_e20190752004562_c20190752005036.nc'\n",
    "\n",
    "# goes 17\n",
    "C_5 = xarray.open_dataset(FILE_5)\n",
    "C_3 = xarray.open_dataset(FILE_3)\n",
    "#channel 2 at finer spatial res\n",
    "#C_2 = xarray.open_dataset(FILE_2)\n",
    "\n",
    "# goes 16\n",
    "C_5_16 = xarray.open_dataset(FILE_5_16)\n",
    "C_3_16 = xarray.open_dataset(FILE_3_16)"
   ]
  },
  {
   "cell_type": "code",
   "execution_count": null,
   "metadata": {},
   "outputs": [
    {
     "data": {
      "text/plain": [
       "<xarray.DataArray 'goes_imager_projection' ()>\n",
       "array(-2147483647)\n",
       "Coordinates:\n",
       "    t        datetime64[ns] 2019-03-16T20:03:37.624284928\n",
       "    y_image  float32 ...\n",
       "    x_image  float32 ...\n",
       "Attributes:\n",
       "    long_name:                       GOES-R ABI fixed grid projection\n",
       "    grid_mapping_name:               geostationary\n",
       "    perspective_point_height:        35786023.0\n",
       "    semi_major_axis:                 6378137.0\n",
       "    semi_minor_axis:                 6356752.31414\n",
       "    inverse_flattening:              298.2572221\n",
       "    latitude_of_projection_origin:   0.0\n",
       "    longitude_of_projection_origin:  -137.0\n",
       "    sweep_angle_axis:                x"
      ]
     },
     "execution_count": 10,
     "metadata": {},
     "output_type": "execute_result"
    }
   ],
   "source": [
    "#goes 17 info\n",
    "C_5['goes_imager_projection']"
   ]
  },
  {
   "cell_type": "code",
   "execution_count": null,
   "metadata": {},
   "outputs": [
    {
     "data": {
      "text/plain": [
       "<xarray.DataArray 'goes_imager_projection' ()>\n",
       "array(-2147483647)\n",
       "Coordinates:\n",
       "    t        datetime64[ns] 2019-03-16T20:03:37.591216\n",
       "    y_image  float32 ...\n",
       "    x_image  float32 ...\n",
       "Attributes:\n",
       "    long_name:                       GOES-R ABI fixed grid projection\n",
       "    grid_mapping_name:               geostationary\n",
       "    perspective_point_height:        35786023.0\n",
       "    semi_major_axis:                 6378137.0\n",
       "    semi_minor_axis:                 6356752.31414\n",
       "    inverse_flattening:              298.2572221\n",
       "    latitude_of_projection_origin:   0.0\n",
       "    longitude_of_projection_origin:  -75.0\n",
       "    sweep_angle_axis:                x"
      ]
     },
     "execution_count": 11,
     "metadata": {},
     "output_type": "execute_result"
    }
   ],
   "source": [
    "#goes 16 info\n",
    "C_5_16['goes_imager_projection']"
   ]
  },
  {
   "cell_type": "code",
   "execution_count": null,
   "metadata": {},
   "outputs": [],
   "source": [
    "# Satellite height goes 17\n",
    "sat_h = C_5['goes_imager_projection'].perspective_point_height\n",
    "\n",
    "# Satellite longitude\n",
    "#sat_lon = C_5['goes_imager_projection'].longitude_of_projection_origin\n",
    "#uncertainty whether at -137.2. -137 seems correct now\n",
    "sat_lon = -137\n",
    "\n",
    "# Satellite sweep\n",
    "sat_sweep = C_5['goes_imager_projection'].sweep_angle_axis\n",
    "\n",
    "# The projection x and y coordinates equals the scanning angle (in radians) multiplied by the satellite height\n",
    "# See details here: https://proj4.org/operations/projections/geos.html?highlight=geostationary\n",
    "x = C_5['x'][:] * sat_h\n",
    "y = C_5['y'][:] * sat_h"
   ]
  },
  {
   "cell_type": "code",
   "execution_count": null,
   "metadata": {},
   "outputs": [],
   "source": [
    "# Satellite height goes 16\n",
    "sat_h_16 = C_5_16['goes_imager_projection'].perspective_point_height\n",
    "\n",
    "# Satellite longitude\n",
    "#sat_lon = C_5['goes_imager_projection'].longitude_of_projection_origin\n",
    "#uncertainty whether at -75.2; -75 seems correct now\n",
    "sat_lon_16 = -75\n",
    "\n",
    "# Satellite sweep\n",
    "sat_sweep_16 = C_5_16['goes_imager_projection'].sweep_angle_axis\n",
    "\n",
    "# The projection x and y coordinates equals the scanning angle (in radians) multiplied by the satellite height\n",
    "# See details here: https://proj4.org/operations/projections/geos.html?highlight=geostationary\n",
    "x_16 = C_5_16['x'][:] * sat_h_16\n",
    "y_16 = C_5_16['y'][:] * sat_h_16"
   ]
  },
  {
   "cell_type": "code",
   "execution_count": null,
   "metadata": {},
   "outputs": [],
   "source": [
    "import cartopy.crs as ccrs\n",
    "import cartopy.feature as cfeature\n",
    "\n",
    "projection = ccrs.Geostationary(central_longitude=sat_lon, satellite_height=sat_h,\n",
    "                               sweep_axis=sat_sweep)\n",
    "img_extent = (x.min(), x.max(), y.min(), y.max())\n",
    "\n",
    "projection_16 = ccrs.Geostationary(central_longitude=sat_lon_16, satellite_height=sat_h_16,\n",
    "                               sweep_axis=sat_sweep_16)\n",
    "img_extent_16 = (x_16.min(), x_16.max(), y_16.min(), y_16.max())\n",
    "\n",
    "\n"
   ]
  },
  {
   "cell_type": "markdown",
   "metadata": {},
   "source": [
    "#### The magic function: `pyproj.Proj`\n",
    "This function creates a map projection object of the geostationary projection."
   ]
  },
  {
   "cell_type": "code",
   "execution_count": null,
   "metadata": {},
   "outputs": [
    {
     "name": "stdout",
     "output_type": "stream",
     "text": [
      "GOES 17 dimensions: 3000 5000\n",
      "GOES 16 dimensions: 3000 5000\n"
     ]
    }
   ],
   "source": [
    "# Create a pyproj geostationary map object\n",
    "p = Proj(proj='geos', h=sat_h, lon_0=sat_lon, sweep=sat_sweep)\n",
    "\n",
    "# Create a pyproj geostationary map object\n",
    "p_16 = Proj(proj='geos', h=sat_h_16, lon_0=sat_lon_16, sweep=sat_sweep_16)\n",
    "# Perform cartographic transformation for goes 17. That is, convert image projection coordinates (x and y)\n",
    "# to latitude and longitude values.\n",
    "XX, YY = np.meshgrid(x, y)\n",
    "lons, lats = p(XX, YY, inverse=True)\n",
    "\n",
    "# Create a pyproj geostationary map object\n",
    "p = Proj(proj='geos', h=sat_h, lon_0=sat_lon, sweep=sat_sweep)\n",
    "\n",
    "print('GOES 17 dimensions: %s %s' % np.shape(lons))\n",
    "\n",
    "# Perform cartographic transformation for goes 16. That is, convert image projection coordinates (x and y)\n",
    "# to latitude and longitude values.\n",
    "XX_16, YY_16 = np.meshgrid(x_16, y_16)\n",
    "lons_16, lats_16 = p_16(XX_16, YY_16, inverse=True)\n",
    "\n",
    "# Create a pyproj geostationary map object\n",
    "p_16 = Proj(proj='geos', h=sat_h_16, lon_0=sat_lon_16, sweep=sat_sweep_16)\n",
    "\n",
    "print('GOES 16 dimensions: %s %s' % np.shape(lons_16))\n",
    "#print (lons_16,lats_16)\n"
   ]
  },
  {
   "cell_type": "code",
   "execution_count": null,
   "metadata": {},
   "outputs": [
    {
     "name": "stdout",
     "output_type": "stream",
     "text": [
      "(15000000, 2)\n",
      "[[  53.51366846  175.58688993]\n",
      " [  53.51009397  175.62003143]\n",
      " [  53.50652579  175.65312979]\n",
      " ...\n",
      " [  14.80001316 -112.44766424]\n",
      " [  14.80021706 -112.43677203]\n",
      " [  14.80042107 -112.42587833]]\n",
      "(62500, 2)\n",
      "[[  39.25 -114.25]\n",
      " [  39.25 -114.24]\n",
      " [  39.25 -114.23]\n",
      " ...\n",
      " [  41.74 -111.78]\n",
      " [  41.74 -111.77]\n",
      " [  41.74 -111.76]]\n"
     ]
    }
   ],
   "source": [
    "lons_i = np.arange(-114.25, -111.75, 0.01)\n",
    "lats_i = np.arange(39.25, 41.75, 0.01)\n",
    "xx_i, yy_i = np.meshgrid(lons_i,lats_i)\n",
    "dims_i = np.shape(xx_i)\n",
    "iy = len(lats_i)\n",
    "ix = len(lons_i)\n",
    "lat_lon = np.dstack([lats.ravel(),lons.ravel()])[0]\n",
    "print(np.shape(lat_lon))\n",
    "print(lat_lon)\n",
    "lat_lon_i = np.dstack([yy_i.ravel(),xx_i.ravel()])[0]\n",
    "print(np.shape(lat_lon_i))\n",
    "print(lat_lon_i)"
   ]
  },
  {
   "cell_type": "code",
   "execution_count": null,
   "metadata": {},
   "outputs": [
    {
     "name": "stdout",
     "output_type": "stream",
     "text": [
      "(3000, 5000)\n",
      "[0.00707282 0.00446254 0.00453254 ... 0.00618656 0.00796589 0.00729449]\n",
      "[3914304 3914305 3914306 ... 3054402 3059403 3054403]\n"
     ]
    }
   ],
   "source": [
    "from scipy import spatial\n",
    "print(np.shape(lats))\n",
    "distance,index = spatial.KDTree(lat_lon).query(lat_lon_i)\n",
    "print(distance)\n",
    "print(index)"
   ]
  },
  {
   "cell_type": "code",
   "execution_count": null,
   "metadata": {},
   "outputs": [
    {
     "name": "stdout",
     "output_type": "stream",
     "text": [
      "(15000000, 2)\n",
      "[[ 1.00000000e+30  1.00000000e+30]\n",
      " [ 1.00000000e+30  1.00000000e+30]\n",
      " [ 1.00000000e+30  1.00000000e+30]\n",
      " ...\n",
      " [ 1.46335286e+01 -6.19246904e+01]\n",
      " [ 1.46336282e+01 -6.19149256e+01]\n",
      " [ 1.46337279e+01 -6.19051602e+01]]\n"
     ]
    }
   ],
   "source": [
    "lat_lon_16 = np.dstack([lats_16.ravel(),lons_16.ravel()])[0]\n",
    "print(np.shape(lat_lon_16))\n",
    "print(lat_lon_16)\n",
    "\n",
    "distance_16,index_16 = spatial.KDTree(lat_lon_16).query(lat_lon_i)\n",
    "print(distance_16)\n",
    "print(index_16)"
   ]
  },
  {
   "cell_type": "code",
   "execution_count": null,
   "metadata": {},
   "outputs": [],
   "source": [
    "np.savez('sf.npyz',index,index_16)"
   ]
  }
 ],
 "metadata": {
  "kernelspec": {
   "display_name": "Python 3",
   "language": "python",
   "name": "python3"
  },
  "language_info": {
   "codemirror_mode": {
    "name": "ipython",
    "version": 3
   },
   "file_extension": ".py",
   "mimetype": "text/x-python",
   "name": "python",
   "nbconvert_exporter": "python",
   "pygments_lexer": "ipython3",
   "version": "3.7.1"
  }
 },
 "nbformat": 4,
 "nbformat_minor": 2
}
