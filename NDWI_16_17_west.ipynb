{
 "cells": [
  {
   "cell_type": "markdown",
   "metadata": {},
   "source": [
    "## First, import the libraries we will use"
   ]
  },
  {
   "cell_type": "code",
   "execution_count": 43,
   "metadata": {},
   "outputs": [],
   "source": [
    "%matplotlib inline\n",
    "\n",
    "import numpy as np\n",
    "from datetime import datetime, timedelta\n",
    "from pyproj import Proj\n",
    "import xarray\n",
    "import matplotlib.pyplot as plt\n",
    "from mpl_toolkits.basemap import Basemap"
   ]
  },
  {
   "cell_type": "markdown",
   "metadata": {},
   "source": [
    "## Open the GOES-17 NetCDF File\n",
    "Using xarray, I assign the opened file to the variable C for the CONUS domain."
   ]
  },
  {
   "cell_type": "code",
   "execution_count": 44,
   "metadata": {},
   "outputs": [],
   "source": [
    "#GOES 16 all in one file\n",
    "#FILE = 'OR_ABI-L2-MCMIPC-M3_G16_s20190422102136_e20190422104509_c20190422105021.nc'\n",
    "\n",
    "#GOES 17 on Amazon, each channel in a different file\n",
    "FILE_5 ='OR_ABI-L2-CMIPC-M3C05_G17_s20190422102163_e20190422104536_c20190422105008.nc'\n",
    "FILE_3 = 'OR_ABI-L2-CMIPC-M3C03_G17_s20190422102163_e20190422104536_c20190422104597.nc'\n",
    "FILE_3 = 'OR_ABI-L2-CMIPM1-M3C03_G17_s20190461730268_e20190461730326_c20190461730375.nc'\n",
    "File_5 = 'OR_ABI-L2-CMIPM1-M3C05_G17_s20190461730268_e20190461730326_c20190461730375.nc'\n",
    "FILE_3 = 'OR_ABI-L2-CMIPC-M3C03_G17_s20190461732189_e20190461734562_c20190461735029.nc'\n",
    "FILE_5 = 'OR_ABI-L2-CMIPC-M3C05_G17_s20190461732189_e20190461734562_c20190461735030.nc'\n",
    "FILE_3 = 'OR_ABI-L2-CMIPM1-M3C03_G17_s20190461700268_e20190461700326_c20190461700370.nc'\n",
    "FILE_5 = 'OR_ABI-L2-CMIPM1-M3C05_G17_s20190461700268_e20190461700326_c20190461700373.nc'\n",
    "FILE_3 = 'OR_ABI-L2-CMIPC-M3C03_G17_s20190741802189_e20190741804562_c20190741805023.nc'\n",
    "FILE_5 = 'OR_ABI-L2-CMIPC-M3C05_G17_s20190741802189_e20190741804562_c20190741805035.nc'\n",
    "FILE_3 = 'OR_ABI-L2-CMIPC-M3C03_G17_s20190742102189_e20190742104562_c20190742105016.nc'\n",
    "FILE_5 = 'OR_ABI-L2-CMIPC-M3C05_G17_s20190742102189_e20190742104562_c20190742105023.nc'\n",
    "FILE_3 = 'OR_ABI-L2-CMIPC-M3C03_G17_s20190752002189_e20190752004562_c20190752005027.nc'\n",
    "FILE_5 = 'OR_ABI-L2-CMIPC-M3C05_G17_s20190752002189_e20190752004562_c20190752005028.nc'\n",
    "FILE_2 = 'OR_ABI-L2-CMIPC-M3C02_G17_s20190752002189_e20190752004562_c20190752005057.nc'\n",
    "\n",
    "FILE_3_16 = 'OR_ABI-L2-CMIPC-M3C03_G16_s20190752002189_e20190752004562_c20190752005035.nc'\n",
    "FILE_5_16 = 'OR_ABI-L2-CMIPC-M3C05_G16_s20190752002189_e20190752004562_c20190752005036.nc'\n",
    "\n",
    "# goes 17\n",
    "C_5 = xarray.open_dataset(FILE_5)\n",
    "C_3 = xarray.open_dataset(FILE_3)\n",
    "#channel 2 at finer spatial res\n",
    "#C_2 = xarray.open_dataset(FILE_2)\n",
    "\n",
    "# goes 16\n",
    "C_5_16 = xarray.open_dataset(FILE_5_16)\n",
    "C_3_16 = xarray.open_dataset(FILE_3_16)"
   ]
  },
  {
   "cell_type": "markdown",
   "metadata": {},
   "source": [
    "## Date and Time Information\n",
    "Each file represents the data collected during one scan sequence for the domain. There are several different time stamps in this file, which are also found in the file's name."
   ]
  },
  {
   "cell_type": "code",
   "execution_count": 45,
   "metadata": {},
   "outputs": [
    {
     "name": "stdout",
     "output_type": "stream",
     "text": [
      "Scan Start    : 2019-03-16 20:02:18.900000\n",
      "Scan midpoint : 2019-03-16 20:03:37.500000\n",
      "Scan End      : 2019-03-16 20:04:56.200000\n",
      "File Created  : 2019-03-16 20:05:03.600000\n",
      "Scan Duration GOES 16: 2.62 minutes\n"
     ]
    }
   ],
   "source": [
    "#goes 16\n",
    "# Scan's start time, converted to datetime object\n",
    "scan_start_16 = datetime.strptime(C_5_16.time_coverage_start, '%Y-%m-%dT%H:%M:%S.%fZ')\n",
    "\n",
    "# Scan's end time, converted to datetime object\n",
    "scan_end_16 = datetime.strptime(C_5_16.time_coverage_end, '%Y-%m-%dT%H:%M:%S.%fZ')\n",
    "\n",
    "# File creation time, convert to datetime object\n",
    "file_created_16 = datetime.strptime(C_5_16.date_created, '%Y-%m-%dT%H:%M:%S.%fZ')\n",
    "\n",
    "# The 't' variable is the scan's midpoint time\n",
    "# I'm not a fan of numpy datetime, so I convert it to a regular datetime object\n",
    "midpoint_16 = str(C_5_16['t'].data)[:-8]\n",
    "scan_mid_16 = datetime.strptime(midpoint_16, '%Y-%m-%dT%H:%M:%S.%f')\n",
    "\n",
    "print('Scan Start    : %s' % scan_start_16)\n",
    "print('Scan midpoint : %s' % scan_mid_16)\n",
    "print('Scan End      : %s' % scan_end_16)\n",
    "print('File Created  : %s' % file_created_16)\n",
    "print('Scan Duration GOES 16: %.2f minutes' % ((scan_end_16-scan_start_16).seconds/60))"
   ]
  },
  {
   "cell_type": "code",
   "execution_count": 46,
   "metadata": {},
   "outputs": [
    {
     "name": "stdout",
     "output_type": "stream",
     "text": [
      "Scan Start    : 2019-03-16 20:02:18.900000\n",
      "Scan midpoint : 2019-03-16 20:03:37.600000\n",
      "Scan End      : 2019-03-16 20:04:56.200000\n",
      "File Created  : 2019-03-16 20:05:02.800000\n",
      "Scan Duration : 2.62 minutes\n"
     ]
    }
   ],
   "source": [
    "#goes 17\n",
    "# Scan's start time, converted to datetime object\n",
    "scan_start = datetime.strptime(C_5.time_coverage_start, '%Y-%m-%dT%H:%M:%S.%fZ')\n",
    "\n",
    "# Scan's end time, converted to datetime object\n",
    "scan_end = datetime.strptime(C_5.time_coverage_end, '%Y-%m-%dT%H:%M:%S.%fZ')\n",
    "\n",
    "# File creation time, convert to datetime object\n",
    "file_created = datetime.strptime(C_5.date_created, '%Y-%m-%dT%H:%M:%S.%fZ')\n",
    "\n",
    "# The 't' variable is the scan's midpoint time\n",
    "# I'm not a fan of numpy datetime, so I convert it to a regular datetime object\n",
    "midpoint = str(C_5['t'].data)[:-8]\n",
    "scan_mid = datetime.strptime(midpoint, '%Y-%m-%dT%H:%M:%S.%f')\n",
    "\n",
    "print('Scan Start    : %s' % scan_start)\n",
    "print('Scan midpoint : %s' % scan_mid)\n",
    "print('Scan End      : %s' % scan_end)\n",
    "print('File Created  : %s' % file_created)\n",
    "print('Scan Duration : %.2f minutes' % ((scan_end-scan_start).seconds/60))"
   ]
  },
  {
   "cell_type": "code",
   "execution_count": 47,
   "metadata": {},
   "outputs": [],
   "source": [
    "# Confirm that each band is the wavelength we are interested in\n",
    "#for band in [ 3, 5]:\n",
    "#    print(\"%s is %.2f %s\" % (C['band_wavelength_C%02d' % band].long_name,\n",
    "#                             C['band_wavelength_C%02d' % band][0],\n",
    "#                             C['band_wavelength_C%02d' % band].units))"
   ]
  },
  {
   "cell_type": "code",
   "execution_count": 48,
   "metadata": {},
   "outputs": [],
   "source": [
    "# Load the two channels into appropriate G and NIR variables\n",
    "\n",
    "#goes 17\n",
    "NIR = C_5['CMI'].data\n",
    "G = C_3['CMI'].data\n",
    "#R = C_2['CMI'].data\n",
    "\n",
    "#do the same for GOES 16\n",
    "NIR_16 = C_5_16['CMI'].data\n",
    "G_16 = C_3_16['CMI'].data\n",
    "\n"
   ]
  },
  {
   "cell_type": "code",
   "execution_count": 49,
   "metadata": {},
   "outputs": [],
   "source": [
    "# values must be between 0 and 1.\n",
    "NIR = np.clip(NIR, 0, 1)\n",
    "G = np.clip(G, 0, 1)\n",
    "\n",
    "# values must be between 0 and 1.\n",
    "NIR_16 = np.clip(NIR_16, 0, 1)\n",
    "G_16 = np.clip(G_16, 0, 1)\n",
    "\n"
   ]
  },
  {
   "cell_type": "markdown",
   "metadata": {},
   "source": [
    "## Simple Image\n",
    "Use `plt.imshow` to get a quick look at the channels and RGB composite we created.\n",
    "\n",
    "First, we plot each channel individually. The deeper the color means the satellite is observing more light in that channel. Clouds appear white becuase they reflect lots of red, green, and blue light. You will also notice that the land reflects a lot of \"green\" in the veggie channel becuase this channel is sensitive to the chlorophyll."
   ]
  },
  {
   "cell_type": "markdown",
   "metadata": {},
   "source": [
    "fig, ([ax1, ax2]) = plt.subplots(1, 2, figsize=(16,3))\n",
    "\n",
    "ax1.imshow(NIR, cmap='Reds', vmax=1, vmin=0)\n",
    "ax1.set_title('NIR', fontweight='semibold')\n",
    "ax1.axis('off');\n",
    "\n",
    "ax2.imshow(G, cmap='Greens', vmax=1, vmin=0)\n",
    "ax2.set_title('Green', fontweight='semibold')\n",
    "ax2.axis('off');\n",
    "\n",
    "plt.subplots_adjust(wspace=.02)"
   ]
  },
  {
   "cell_type": "markdown",
   "metadata": {},
   "source": [
    "fig, ([ax1, ax2]) = plt.subplots(1, 2, figsize=(16,3))\n",
    "\n",
    "ax1.imshow(NIR_16, cmap='Reds', vmax=1, vmin=0)\n",
    "ax1.set_title('NIR', fontweight='semibold')\n",
    "ax1.axis('off');\n",
    "\n",
    "ax2.imshow(G_16, cmap='Greens', vmax=1, vmin=0)\n",
    "ax2.set_title('Green', fontweight='semibold')\n",
    "ax2.axis('off');\n",
    "\n",
    "plt.subplots_adjust(wspace=.02)"
   ]
  },
  {
   "cell_type": "code",
   "execution_count": 50,
   "metadata": {},
   "outputs": [
    {
     "data": {
      "text/plain": [
       "<xarray.DataArray 'goes_imager_projection' ()>\n",
       "array(-2147483647)\n",
       "Coordinates:\n",
       "    t        datetime64[ns] 2019-03-16T20:03:37.624284928\n",
       "    y_image  float32 ...\n",
       "    x_image  float32 ...\n",
       "Attributes:\n",
       "    long_name:                       GOES-R ABI fixed grid projection\n",
       "    grid_mapping_name:               geostationary\n",
       "    perspective_point_height:        35786023.0\n",
       "    semi_major_axis:                 6378137.0\n",
       "    semi_minor_axis:                 6356752.31414\n",
       "    inverse_flattening:              298.2572221\n",
       "    latitude_of_projection_origin:   0.0\n",
       "    longitude_of_projection_origin:  -137.0\n",
       "    sweep_angle_axis:                x"
      ]
     },
     "execution_count": 50,
     "metadata": {},
     "output_type": "execute_result"
    }
   ],
   "source": [
    "#goes 17 info\n",
    "C_5['goes_imager_projection']"
   ]
  },
  {
   "cell_type": "code",
   "execution_count": 51,
   "metadata": {},
   "outputs": [
    {
     "data": {
      "text/plain": [
       "<xarray.DataArray 'goes_imager_projection' ()>\n",
       "array(-2147483647)\n",
       "Coordinates:\n",
       "    t        datetime64[ns] 2019-03-16T20:03:37.591216\n",
       "    y_image  float32 ...\n",
       "    x_image  float32 ...\n",
       "Attributes:\n",
       "    long_name:                       GOES-R ABI fixed grid projection\n",
       "    grid_mapping_name:               geostationary\n",
       "    perspective_point_height:        35786023.0\n",
       "    semi_major_axis:                 6378137.0\n",
       "    semi_minor_axis:                 6356752.31414\n",
       "    inverse_flattening:              298.2572221\n",
       "    latitude_of_projection_origin:   0.0\n",
       "    longitude_of_projection_origin:  -75.0\n",
       "    sweep_angle_axis:                x"
      ]
     },
     "execution_count": 51,
     "metadata": {},
     "output_type": "execute_result"
    }
   ],
   "source": [
    "#goes 16 info\n",
    "C_5_16['goes_imager_projection']"
   ]
  },
  {
   "cell_type": "code",
   "execution_count": 52,
   "metadata": {},
   "outputs": [],
   "source": [
    "# Satellite height goes 17\n",
    "sat_h = C_5['goes_imager_projection'].perspective_point_height\n",
    "\n",
    "# Satellite longitude\n",
    "#sat_lon = C_5['goes_imager_projection'].longitude_of_projection_origin\n",
    "#uncertainty whether at -137.2. -137 seems correct now\n",
    "sat_lon = -137\n",
    "\n",
    "# Satellite sweep\n",
    "sat_sweep = C_5['goes_imager_projection'].sweep_angle_axis\n",
    "\n",
    "# The projection x and y coordinates equals the scanning angle (in radians) multiplied by the satellite height\n",
    "# See details here: https://proj4.org/operations/projections/geos.html?highlight=geostationary\n",
    "x = C_5['x'][:] * sat_h\n",
    "y = C_5['y'][:] * sat_h"
   ]
  },
  {
   "cell_type": "code",
   "execution_count": 53,
   "metadata": {},
   "outputs": [],
   "source": [
    "# Satellite height goes 16\n",
    "sat_h_16 = C_5_16['goes_imager_projection'].perspective_point_height\n",
    "\n",
    "# Satellite longitude\n",
    "#sat_lon = C_5['goes_imager_projection'].longitude_of_projection_origin\n",
    "#uncertainty whether at -75.2; -75 seems correct now\n",
    "sat_lon_16 = -75\n",
    "\n",
    "# Satellite sweep\n",
    "sat_sweep_16 = C_5_16['goes_imager_projection'].sweep_angle_axis\n",
    "\n",
    "# The projection x and y coordinates equals the scanning angle (in radians) multiplied by the satellite height\n",
    "# See details here: https://proj4.org/operations/projections/geos.html?highlight=geostationary\n",
    "x_16 = C_5_16['x'][:] * sat_h_16\n",
    "y_16 = C_5_16['y'][:] * sat_h_16"
   ]
  },
  {
   "cell_type": "code",
   "execution_count": 54,
   "metadata": {},
   "outputs": [],
   "source": [
    "import cartopy.crs as ccrs\n",
    "import cartopy.feature as cfeature\n",
    "\n",
    "projection = ccrs.Geostationary(central_longitude=sat_lon, satellite_height=sat_h,\n",
    "                               sweep_axis=sat_sweep)\n",
    "img_extent = (x.min(), x.max(), y.min(), y.max())\n",
    "\n",
    "projection_16 = ccrs.Geostationary(central_longitude=sat_lon_16, satellite_height=sat_h_16,\n",
    "                               sweep_axis=sat_sweep_16)\n",
    "img_extent_16 = (x_16.min(), x_16.max(), y_16.min(), y_16.max())\n",
    "\n",
    "\n"
   ]
  },
  {
   "cell_type": "markdown",
   "metadata": {},
   "source": [
    "#### The magic function: `pyproj.Proj`\n",
    "This function creates a map projection object of the geostationary projection."
   ]
  },
  {
   "cell_type": "code",
   "execution_count": 55,
   "metadata": {},
   "outputs": [
    {
     "name": "stdout",
     "output_type": "stream",
     "text": [
      "GOES 17 dimensions: 3000 5000\n",
      "GOES 16 dimensions: 3000 5000\n"
     ]
    }
   ],
   "source": [
    "# Create a pyproj geostationary map object\n",
    "p = Proj(proj='geos', h=sat_h, lon_0=sat_lon, sweep=sat_sweep)\n",
    "\n",
    "# Create a pyproj geostationary map object\n",
    "p_16 = Proj(proj='geos', h=sat_h_16, lon_0=sat_lon_16, sweep=sat_sweep_16)\n",
    "# Perform cartographic transformation for goes 17. That is, convert image projection coordinates (x and y)\n",
    "# to latitude and longitude values.\n",
    "XX, YY = np.meshgrid(x, y)\n",
    "lons, lats = p(XX, YY, inverse=True)\n",
    "\n",
    "# Create a pyproj geostationary map object\n",
    "p = Proj(proj='geos', h=sat_h, lon_0=sat_lon, sweep=sat_sweep)\n",
    "\n",
    "print('GOES 17 dimensions: %s %s' % np.shape(lons))\n",
    "\n",
    "# Perform cartographic transformation for goes 16. That is, convert image projection coordinates (x and y)\n",
    "# to latitude and longitude values.\n",
    "XX_16, YY_16 = np.meshgrid(x_16, y_16)\n",
    "lons_16, lats_16 = p_16(XX_16, YY_16, inverse=True)\n",
    "\n",
    "# Create a pyproj geostationary map object\n",
    "p_16 = Proj(proj='geos', h=sat_h_16, lon_0=sat_lon_16, sweep=sat_sweep_16)\n",
    "\n",
    "print('GOES 16 dimensions: %s %s' % np.shape(lons_16))\n",
    "#print (lons_16,lats_16)\n"
   ]
  },
  {
   "cell_type": "code",
   "execution_count": 56,
   "metadata": {},
   "outputs": [
    {
     "name": "stderr",
     "output_type": "stream",
     "text": [
      "C:\\Users\\johnh\\Anaconda3\\envs\\pyBKB_v3\\lib\\site-packages\\ipykernel_launcher.py:17: RuntimeWarning: invalid value encountered in greater\n",
      "C:\\Users\\johnh\\Anaconda3\\envs\\pyBKB_v3\\lib\\site-packages\\ipykernel_launcher.py:19: RuntimeWarning: invalid value encountered in less\n",
      "C:\\Users\\johnh\\Anaconda3\\envs\\pyBKB_v3\\lib\\site-packages\\ipykernel_launcher.py:21: RuntimeWarning: invalid value encountered in greater\n"
     ]
    }
   ],
   "source": [
    "# values should be between -1 and 1\n",
    "#goes 17\n",
    "NDWI = (G-NIR)/(G+NIR+.0001)\n",
    "min_ndwi = np.nanmin(NDWI)\n",
    "max_ndwi = np.nanmax(NDWI)\n",
    "\n",
    "\n",
    "#set positive values (water to 1)\n",
    "NDWI[(NDWI>0.)]=1.\n",
    "#set negative values (\"land\" to 0.15)\n",
    "NDWI[(NDWI<0.)]=.15\n",
    "#screen out snow\n",
    "NDWI[(G > 0.13)]=0.15\n",
    "\n",
    "NDWI_16 = (G_16-NIR_16)/(G_16+NIR_16+.0001)\n",
    "#set positive values (water to 1)\n",
    "NDWI_16[(NDWI_16>0.)]=1.\n",
    "#set negative values (\"land\" to 0.15)\n",
    "NDWI_16[(NDWI_16<0.)]=.15\n",
    "#screen out snow\n",
    "NDWI_16[(G_16 > 0.13)]=0.15\n"
   ]
  },
  {
   "cell_type": "code",
   "execution_count": 57,
   "metadata": {},
   "outputs": [],
   "source": [
    "lons_i = np.arange(-122.5, -111., 0.01)\n",
    "lats_i = np.arange(35.5, 43., 0.01)\n",
    "xx_i, yy_i = np.meshgrid(lons_i,lats_i)\n",
    "dims_i = np.shape(xx_i)\n",
    "iy = len(lats_i)\n",
    "ix = len(lons_i)\n",
    "\n",
    "NDWI_I = np.ones((iy,ix))\n",
    "NDWI_I= NDWI_I.flatten()\n",
    "NDWI_I_16 = np.ones((iy,ix))\n",
    "NDWI_I_16= NDWI_I_16.flatten()\n",
    "\n",
    "NDWI_M = np.ones((iy,ix))\n"
   ]
  },
  {
   "cell_type": "code",
   "execution_count": 58,
   "metadata": {},
   "outputs": [
    {
     "name": "stdout",
     "output_type": "stream",
     "text": [
      "(15000000,)\n",
      "[5243745 5248746 5243746 ... 2634410 2639411 2639412]\n",
      "862500\n",
      "[1.         1.         1.         ... 0.15000001 0.15000001 0.15000001]\n",
      "(750, 1150)\n"
     ]
    }
   ],
   "source": [
    "index=np.load('proj_west_17.npy')\n",
    "NDWI=NDWI.flatten()\n",
    "print(np.shape(NDWI))\n",
    "print(index)\n",
    "print(len(index))\n",
    "for i in range(0,len(index)):\n",
    "    idx = index[i]\n",
    "    NDWI_I[i] = NDWI[idx]\n",
    "print(NDWI_I)\n",
    "NDWI_I=np.reshape(NDWI_I,(iy,ix))\n",
    "print(np.shape(NDWI_I))"
   ]
  },
  {
   "cell_type": "code",
   "execution_count": 59,
   "metadata": {},
   "outputs": [
    {
     "name": "stdout",
     "output_type": "stream",
     "text": [
      "\n",
      "[3060105 3055106 3055107 ...    1080    1080    1081]\n",
      "862500\n",
      "[1.         1.         1.         ... 0.15000001 0.15000001 0.15000001]\n",
      "(750, 1150)\n",
      "[[1.         1.         1.         ... 0.15000001 0.15000001 0.15000001]\n",
      " [1.         1.         1.         ... 0.15000001 0.15000001 0.15000001]\n",
      " [1.         1.         1.         ... 0.15000001 0.15000001 0.15000001]\n",
      " ...\n",
      " [0.15000001 0.15000001 0.15000001 ... 0.15000001 0.15000001 0.15000001]\n",
      " [0.15000001 0.15000001 0.15000001 ... 0.15000001 0.15000001 0.15000001]\n",
      " [0.15000001 0.15000001 0.15000001 ... 0.15000001 0.15000001 0.15000001]]\n"
     ]
    }
   ],
   "source": [
    "index_16=np.load('proj_west_16.npy')\n",
    "#for NDWI_16 need to truncate data to part where the lat/lons defined\n",
    "NDWI_16t=NDWI_16[575:,:]\n",
    "NDWI_16t=NDWI_16t.flatten()\n",
    "print()\n",
    "print(index_16)\n",
    "print(len(index_16))\n",
    "for i in range(0,len(index_16)):\n",
    "    idx = index_16[i]\n",
    "    NDWI_I_16[i] = NDWI_16t[idx]\n",
    "\n",
    "print(NDWI_I_16)\n",
    "NDWI_I_16=np.reshape(NDWI_I_16,(iy,ix))\n",
    "print(np.shape(NDWI_I_16))\n",
    "NDWI_I_M = np.maximum(NDWI_I,NDWI_I_16)\n",
    "print(NDWI_I_M)"
   ]
  },
  {
   "cell_type": "code",
   "execution_count": 60,
   "metadata": {},
   "outputs": [
    {
     "data": {
      "image/png": "[encoded data removed]",
      "text/plain": [
       "<Figure size 864x864 with 1 Axes>"
      ]
     },
     "metadata": {
      "needs_background": "light"
     },
     "output_type": "display_data"
    }
   ],
   "source": [
    "# Now we can plot the GOES data on a zoomed in map centered over west.\n",
    "plt.figure(figsize=[12,12])\n",
    "l = {'latitude': 40.5,\n",
    "     'longitude': -118.}\n",
    "cmap = plt.get_cmap('GnBu')\n",
    "\n",
    "#lc = ccrs.LambertConformal(central_longitude=-113,standard_parallels=(38.5,38.5))\n",
    "lc = ccrs.PlateCarree()\n",
    "ax = plt.axes(projection=lc)\n",
    "ax.set_extent([l['longitude']-4.5, l['longitude']+7, l['latitude']-5, l['latitude']+2.5], crs=lc)\n",
    "newmap = ax.pcolormesh(lons_i, lats_i, NDWI_M, cmap=cmap, linewidth=0, transform=lc)\n",
    "\n",
    "ax.add_feature(cfeature.COASTLINE.with_scale('50m'))\n",
    "ax.add_feature(cfeature.STATES.with_scale('50m'))\n",
    "\n",
    "plt.title('GOES-16/GOES-17 NDWI', loc='left', fontweight='semibold', fontsize=15);\n",
    "plt.title('%s' % scan_start.strftime('%H:%M UTC %d %B %Y'), loc='right');\n",
    "plt.savefig('wus_water_march16_2002_goes_16_17.png')"
   ]
  },
  {
   "cell_type": "code",
   "execution_count": 61,
   "metadata": {},
   "outputs": [
    {
     "data": {
      "image/png": "[encoded data removed]",
      "text/plain": [
       "<Figure size 864x864 with 1 Axes>"
      ]
     },
     "metadata": {
      "needs_background": "light"
     },
     "output_type": "display_data"
    }
   ],
   "source": [
    "# Now we can plot the GOES data on a zoomed in map centered over west.\n",
    "plt.figure(figsize=[12,12])\n",
    "l = {'latitude': 40.5,\n",
    "     'longitude': -118.}\n",
    "cmap = plt.get_cmap('GnBu')\n",
    "\n",
    "#lc = ccrs.LambertConformal(central_longitude=-113,standard_parallels=(38.5,38.5))\n",
    "lc = ccrs.PlateCarree()\n",
    "ax = plt.axes(projection=lc)\n",
    "ax.set_extent([l['longitude']-4.5, l['longitude']+7, l['latitude']-5, l['latitude']+2.5], crs=lc)\n",
    "newmap = ax.pcolormesh(lons_i, lats_i, NDWI_I, cmap=cmap, linewidth=0, transform=lc)\n",
    "\n",
    "ax.add_feature(cfeature.COASTLINE.with_scale('50m'))\n",
    "ax.add_feature(cfeature.STATES.with_scale('50m'))\n",
    "\n",
    "plt.title('GOES-17 NDWI', loc='left', fontweight='semibold', fontsize=15);\n",
    "plt.title('%s' % scan_start.strftime('%H:%M UTC %d %B %Y'), loc='right');\n",
    "plt.savefig('wus_water_march16_2002_goes_17.png')"
   ]
  },
  {
   "cell_type": "code",
   "execution_count": 62,
   "metadata": {},
   "outputs": [
    {
     "data": {
      "image/png": "[encoded data removed]",
      "text/plain": [
       "<Figure size 864x864 with 1 Axes>"
      ]
     },
     "metadata": {
      "needs_background": "light"
     },
     "output_type": "display_data"
    }
   ],
   "source": [
    "# Now we can plot the GOES data on a zoomed in map centered over west.\n",
    "plt.figure(figsize=[12,12])\n",
    "l = {'latitude': 40.5,\n",
    "     'longitude': -118.}\n",
    "cmap = plt.get_cmap('GnBu')\n",
    "\n",
    "#lc = ccrs.LambertConformal(central_longitude=-113,standard_parallels=(38.5,38.5))\n",
    "lc = ccrs.PlateCarree()\n",
    "ax = plt.axes(projection=lc)\n",
    "ax.set_extent([l['longitude']-4.5, l['longitude']+7, l['latitude']-5, l['latitude']+2.5], crs=lc)\n",
    "newmap = ax.pcolormesh(lons_i, lats_i, NDWI_I_16, cmap=cmap, linewidth=0, transform=lc)\n",
    "\n",
    "ax.add_feature(cfeature.COASTLINE.with_scale('50m'))\n",
    "ax.add_feature(cfeature.STATES.with_scale('50m'))\n",
    "\n",
    "plt.title('GOES-16 NDWI', loc='left', fontweight='semibold', fontsize=15);\n",
    "plt.title('%s' % scan_start.strftime('%H:%M UTC %d %B %Y'), loc='right');\n",
    "plt.savefig('wus_water_march16_2002_goes_16.png')"
   ]
  },
  {
   "cell_type": "markdown",
   "metadata": {},
   "source": [
    "plt.figure(1, figsize=[15, 12])\n",
    "ax = plt.axes(projection=projection)\n",
    "ax.add_feature(cfeature.COASTLINE.with_scale('50m'))\n",
    "ax.add_feature(cfeature.STATES.with_scale('50m'))\n",
    "cmap = plt.get_cmap('GnBu')\n",
    "ax.imshow(NDWI, origin='upper', cmap=cmap,extent=img_extent)\n",
    "plt.title('GOES-17 NDWI', loc='left', fontweight='semibold', fontsize=16)\n",
    "plt.title('%s' % scan_start.strftime('%d %B %Y %H:%M UTC '), loc='right');"
   ]
  },
  {
   "cell_type": "markdown",
   "metadata": {},
   "source": [
    "plt.figure(1, figsize=[15, 12])\n",
    "ax = plt.axes(projection=projection_16)\n",
    "ax.add_feature(cfeature.COASTLINE.with_scale('50m'))\n",
    "ax.add_feature(cfeature.STATES.with_scale('50m'))\n",
    "cmap = plt.get_cmap('GnBu')\n",
    "ax.imshow(NDWI_16, origin='upper', cmap=cmap,extent=img_extent_16)\n",
    "\n",
    "plt.title('GOES-16 NDWI', loc='left', fontweight='semibold', fontsize=16)\n",
    "plt.title('%s' % scan_start_16.strftime('%d %B %Y %H:%M UTC '), loc='right');"
   ]
  },
  {
   "cell_type": "markdown",
   "metadata": {},
   "source": [
    "# Location of Utah\n",
    "\n",
    "######################################################################\n",
    "# Using other projections\n",
    "# ----------------------------------------------\n",
    "#\n",
    "# Changing the projections with cartopy is straightforward. Here we use\n",
    "# the Lambert Conformal projection to display the GOES-16 data.\n",
    "\n",
    "fig = plt.figure(figsize=(15, 12))\n",
    "l = {'latitude': 40.,\n",
    "     'longitude': -113.}\n",
    "\n",
    "semi_major = C_5['goes_imager_projection'].semi_major_axis\n",
    "semi_minor = C_5['goes_imager_projection'].semi_minor_axis\n",
    "globe = ccrs.Globe(semimajor_axis=semi_major, semiminor_axis=semi_minor)\n",
    "geos = ccrs.Geostationary(central_longitude=sat_lon, \n",
    "                         satellite_height=sat_h, globe=globe)\n",
    "\n",
    "cmap = plt.get_cmap('GnBu')\n",
    "\n",
    "#lc = ccrs.LambertConformal(central_longitude=-113,standard_parallels=(38.5,38.5))\n",
    "\n",
    "lc = ccrs.Orthographic(central_longitude=-115,central_latitude=40)\n",
    "\n",
    "ax = fig.add_subplot(1, 1, 1, projection=lc)\n",
    "ax.set_extent([l['longitude']-1.5, l['longitude']+1.5, l['latitude']-1.25, l['latitude']+1.5], crs=ccrs.PlateCarree())\n",
    "\n",
    "ax.imshow(np.flipud(NDWI), origin='lower',\n",
    "                   extent=(x.min(), x.max(), y.min(), y.max()),\n",
    "                   transform=geos,\n",
    "                   interpolation='none',cmap=cmap)\n",
    "ax.coastlines(resolution='50m', color='black', linewidth=1)\n",
    "ax.add_feature(cfeature.STATES.with_scale('50m'))\n",
    "\n",
    "\n",
    "plt.title('GOES-17 NDWI', loc='left', fontweight='semibold', fontsize=15);\n",
    "plt.title('%s' % scan_start.strftime('%H:%M UTC %d %B %Y'), loc='right');\n",
    "\n",
    "\n"
   ]
  },
  {
   "cell_type": "code",
   "execution_count": 63,
   "metadata": {},
   "outputs": [
    {
     "ename": "ValueError",
     "evalue": "not enough values to unpack (expected 2, got 1)",
     "output_type": "error",
     "traceback": [
      "\u001b[1;31m---------------------------------------------------------------------------\u001b[0m",
      "\u001b[1;31mValueError\u001b[0m                                Traceback (most recent call last)",
      "\u001b[1;32m<ipython-input-63-59b536a3581e>\u001b[0m in \u001b[0;36m<module>\u001b[1;34m\u001b[0m\n\u001b[0;32m     14\u001b[0m \u001b[0max\u001b[0m \u001b[1;33m=\u001b[0m \u001b[0mplt\u001b[0m\u001b[1;33m.\u001b[0m\u001b[0maxes\u001b[0m\u001b[1;33m(\u001b[0m\u001b[0mprojection\u001b[0m\u001b[1;33m=\u001b[0m\u001b[0mprojection\u001b[0m\u001b[1;33m)\u001b[0m\u001b[1;33m\u001b[0m\u001b[1;33m\u001b[0m\u001b[0m\n\u001b[0;32m     15\u001b[0m \u001b[0max\u001b[0m\u001b[1;33m.\u001b[0m\u001b[0mset_extent\u001b[0m\u001b[1;33m(\u001b[0m\u001b[1;33m[\u001b[0m\u001b[0ml\u001b[0m\u001b[1;33m[\u001b[0m\u001b[1;34m'longitude'\u001b[0m\u001b[1;33m]\u001b[0m\u001b[1;33m-\u001b[0m\u001b[1;36m1.25\u001b[0m\u001b[1;33m,\u001b[0m \u001b[0ml\u001b[0m\u001b[1;33m[\u001b[0m\u001b[1;34m'longitude'\u001b[0m\u001b[1;33m]\u001b[0m\u001b[1;33m+\u001b[0m\u001b[1;36m1.25\u001b[0m\u001b[1;33m,\u001b[0m \u001b[0ml\u001b[0m\u001b[1;33m[\u001b[0m\u001b[1;34m'latitude'\u001b[0m\u001b[1;33m]\u001b[0m\u001b[1;33m-\u001b[0m\u001b[1;36m2.25\u001b[0m\u001b[1;33m,\u001b[0m \u001b[0ml\u001b[0m\u001b[1;33m[\u001b[0m\u001b[1;34m'latitude'\u001b[0m\u001b[1;33m]\u001b[0m\u001b[1;33m+\u001b[0m\u001b[1;36m1.5\u001b[0m\u001b[1;33m]\u001b[0m\u001b[1;33m,\u001b[0m \u001b[0mcrs\u001b[0m\u001b[1;33m=\u001b[0m\u001b[0mprojection\u001b[0m\u001b[1;33m)\u001b[0m\u001b[1;33m\u001b[0m\u001b[1;33m\u001b[0m\u001b[0m\n\u001b[1;32m---> 16\u001b[1;33m \u001b[0mnewmap\u001b[0m \u001b[1;33m=\u001b[0m \u001b[0max\u001b[0m\u001b[1;33m.\u001b[0m\u001b[0mpcolormesh\u001b[0m\u001b[1;33m(\u001b[0m\u001b[0mlons\u001b[0m\u001b[1;33m,\u001b[0m \u001b[0mlats\u001b[0m\u001b[1;33m,\u001b[0m \u001b[0mNDWI\u001b[0m\u001b[1;33m,\u001b[0m \u001b[0mcmap\u001b[0m\u001b[1;33m=\u001b[0m\u001b[0mcmap\u001b[0m\u001b[1;33m,\u001b[0m \u001b[0mlinewidth\u001b[0m\u001b[1;33m=\u001b[0m\u001b[1;36m0\u001b[0m\u001b[1;33m,\u001b[0m \u001b[0mtransform\u001b[0m\u001b[1;33m=\u001b[0m\u001b[0mprojection\u001b[0m\u001b[1;33m)\u001b[0m\u001b[1;33m\u001b[0m\u001b[1;33m\u001b[0m\u001b[0m\n\u001b[0m\u001b[0;32m     17\u001b[0m \u001b[1;33m\u001b[0m\u001b[0m\n\u001b[0;32m     18\u001b[0m \u001b[1;33m\u001b[0m\u001b[0m\n",
      "\u001b[1;32m~\\Anaconda3\\envs\\pyBKB_v3\\lib\\site-packages\\cartopy\\mpl\\geoaxes.py\u001b[0m in \u001b[0;36mpcolormesh\u001b[1;34m(self, *args, **kwargs)\u001b[0m\n\u001b[0;32m   1457\u001b[0m                              ' consider using PlateCarree/RotatedPole.')\n\u001b[0;32m   1458\u001b[0m         \u001b[0mkwargs\u001b[0m\u001b[1;33m.\u001b[0m\u001b[0msetdefault\u001b[0m\u001b[1;33m(\u001b[0m\u001b[1;34m'transform'\u001b[0m\u001b[1;33m,\u001b[0m \u001b[0mt\u001b[0m\u001b[1;33m)\u001b[0m\u001b[1;33m\u001b[0m\u001b[1;33m\u001b[0m\u001b[0m\n\u001b[1;32m-> 1459\u001b[1;33m         \u001b[0mresult\u001b[0m \u001b[1;33m=\u001b[0m \u001b[0mself\u001b[0m\u001b[1;33m.\u001b[0m\u001b[0m_pcolormesh_patched\u001b[0m\u001b[1;33m(\u001b[0m\u001b[1;33m*\u001b[0m\u001b[0margs\u001b[0m\u001b[1;33m,\u001b[0m \u001b[1;33m**\u001b[0m\u001b[0mkwargs\u001b[0m\u001b[1;33m)\u001b[0m\u001b[1;33m\u001b[0m\u001b[1;33m\u001b[0m\u001b[0m\n\u001b[0m\u001b[0;32m   1460\u001b[0m         \u001b[0mself\u001b[0m\u001b[1;33m.\u001b[0m\u001b[0mautoscale_view\u001b[0m\u001b[1;33m(\u001b[0m\u001b[1;33m)\u001b[0m\u001b[1;33m\u001b[0m\u001b[1;33m\u001b[0m\u001b[0m\n\u001b[0;32m   1461\u001b[0m         \u001b[1;32mreturn\u001b[0m \u001b[0mresult\u001b[0m\u001b[1;33m\u001b[0m\u001b[1;33m\u001b[0m\u001b[0m\n",
      "\u001b[1;32m~\\Anaconda3\\envs\\pyBKB_v3\\lib\\site-packages\\cartopy\\mpl\\geoaxes.py\u001b[0m in \u001b[0;36m_pcolormesh_patched\u001b[1;34m(self, *args, **kwargs)\u001b[0m\n\u001b[0;32m   1489\u001b[0m         \u001b[0mallmatch\u001b[0m \u001b[1;33m=\u001b[0m \u001b[1;33m(\u001b[0m\u001b[0mshading\u001b[0m \u001b[1;33m==\u001b[0m \u001b[1;34m'gouraud'\u001b[0m\u001b[1;33m)\u001b[0m\u001b[1;33m\u001b[0m\u001b[1;33m\u001b[0m\u001b[0m\n\u001b[0;32m   1490\u001b[0m \u001b[1;33m\u001b[0m\u001b[0m\n\u001b[1;32m-> 1491\u001b[1;33m         \u001b[0mX\u001b[0m\u001b[1;33m,\u001b[0m \u001b[0mY\u001b[0m\u001b[1;33m,\u001b[0m \u001b[0mC\u001b[0m \u001b[1;33m=\u001b[0m \u001b[0mself\u001b[0m\u001b[1;33m.\u001b[0m\u001b[0m_pcolorargs\u001b[0m\u001b[1;33m(\u001b[0m\u001b[1;34m'pcolormesh'\u001b[0m\u001b[1;33m,\u001b[0m \u001b[1;33m*\u001b[0m\u001b[0margs\u001b[0m\u001b[1;33m,\u001b[0m \u001b[0mallmatch\u001b[0m\u001b[1;33m=\u001b[0m\u001b[0mallmatch\u001b[0m\u001b[1;33m)\u001b[0m\u001b[1;33m\u001b[0m\u001b[1;33m\u001b[0m\u001b[0m\n\u001b[0m\u001b[0;32m   1492\u001b[0m         \u001b[0mNy\u001b[0m\u001b[1;33m,\u001b[0m \u001b[0mNx\u001b[0m \u001b[1;33m=\u001b[0m \u001b[0mX\u001b[0m\u001b[1;33m.\u001b[0m\u001b[0mshape\u001b[0m\u001b[1;33m\u001b[0m\u001b[1;33m\u001b[0m\u001b[0m\n\u001b[0;32m   1493\u001b[0m \u001b[1;33m\u001b[0m\u001b[0m\n",
      "\u001b[1;32m~\\Anaconda3\\envs\\pyBKB_v3\\lib\\site-packages\\matplotlib\\axes\\_axes.py\u001b[0m in \u001b[0;36m_pcolorargs\u001b[1;34m(funcname, allmatch, *args)\u001b[0m\n\u001b[0;32m   5547\u001b[0m                 \u001b[1;32mif\u001b[0m \u001b[0misinstance\u001b[0m\u001b[1;33m(\u001b[0m\u001b[0mY\u001b[0m\u001b[1;33m,\u001b[0m \u001b[0mnp\u001b[0m\u001b[1;33m.\u001b[0m\u001b[0mma\u001b[0m\u001b[1;33m.\u001b[0m\u001b[0mcore\u001b[0m\u001b[1;33m.\u001b[0m\u001b[0mMaskedArray\u001b[0m\u001b[1;33m)\u001b[0m\u001b[1;33m:\u001b[0m\u001b[1;33m\u001b[0m\u001b[1;33m\u001b[0m\u001b[0m\n\u001b[0;32m   5548\u001b[0m                     \u001b[0mY\u001b[0m \u001b[1;33m=\u001b[0m \u001b[0mY\u001b[0m\u001b[1;33m.\u001b[0m\u001b[0mdata\u001b[0m\u001b[1;33m\u001b[0m\u001b[1;33m\u001b[0m\u001b[0m\n\u001b[1;32m-> 5549\u001b[1;33m             \u001b[0mnumRows\u001b[0m\u001b[1;33m,\u001b[0m \u001b[0mnumCols\u001b[0m \u001b[1;33m=\u001b[0m \u001b[0mC\u001b[0m\u001b[1;33m.\u001b[0m\u001b[0mshape\u001b[0m\u001b[1;33m\u001b[0m\u001b[1;33m\u001b[0m\u001b[0m\n\u001b[0m\u001b[0;32m   5550\u001b[0m         \u001b[1;32melse\u001b[0m\u001b[1;33m:\u001b[0m\u001b[1;33m\u001b[0m\u001b[1;33m\u001b[0m\u001b[0m\n\u001b[0;32m   5551\u001b[0m             raise TypeError(\n",
      "\u001b[1;31mValueError\u001b[0m: not enough values to unpack (expected 2, got 1)"
     ]
    },
    {
     "data": {
      "image/png": "[encoded data removed]",
      "text/plain": [
       "<Figure size 1728x1728 with 1 Axes>"
      ]
     },
     "metadata": {
      "needs_background": "light"
     },
     "output_type": "display_data"
    }
   ],
   "source": [
    "\n",
    "# Location of Utah\n",
    "l = {'latitude': 40.5,\n",
    "     'longitude': -113.}\n",
    "\n",
    "projection = ccrs.PlateCarree()\n",
    "\n",
    "# Now we can plot the GOES data on a zoomed in map centered over Utah.\n",
    "plt.figure(figsize=[24,24])\n",
    "\n",
    "cmap = plt.get_cmap('GnBu')\n",
    "\n",
    "\n",
    "ax = plt.axes(projection=projection)\n",
    "ax.set_extent([l['longitude']-1.25, l['longitude']+1.25, l['latitude']-2.25, l['latitude']+1.5], crs=projection)\n",
    "newmap = ax.pcolormesh(lons, lats, NDWI, cmap=cmap, linewidth=0, transform=projection)\n",
    "\n",
    "\n",
    "\n",
    "#plt.colorbar(newmap, ax=ax)\n",
    "\n",
    "ax.add_feature(cfeature.COASTLINE.with_scale('50m'))\n",
    "ax.add_feature(cfeature.STATES.with_scale('50m'))\n",
    "\n",
    "plt.title('GOES-17 NDWI', loc='left', fontweight='semibold', fontsize=15);\n",
    "plt.title('%s' % scan_start.strftime('%H:%M UTC %d %B %Y'), loc='right');\n",
    "plt.savefig('nutah_water_march16_2002.png')"
   ]
  },
  {
   "cell_type": "code",
   "execution_count": null,
   "metadata": {},
   "outputs": [],
   "source": [
    "\n",
    "# Location of Utah\n",
    "l = {'latitude': 40.5,\n",
    "     'longitude': -113.}\n",
    "\n",
    "projection_16 = ccrs.PlateCarree()\n",
    "\n",
    "# Now we can plot the GOES data on a zoomed in map centered over Utah.\n",
    "plt.figure(figsize=[24,24])\n",
    "\n",
    "cmap = plt.get_cmap('GnBu')\n",
    "\n",
    "\n",
    "ax = plt.axes(projection=projection_16)\n",
    "ax.set_extent([l['longitude']-1.25, l['longitude']+1.25, l['latitude']-2.25, l['latitude']+1.5], crs=projection_16)\n",
    "newmap_16 = ax.pcolormesh(lons_16, lats_16, NDWI_16, cmap=cmap, linewidth=0, transform=projection_16)\n",
    "\n",
    "\n",
    "\n",
    "#plt.colorbar(newmap, ax=ax)\n",
    "\n",
    "ax.add_feature(cfeature.COASTLINE.with_scale('50m'))\n",
    "ax.add_feature(cfeature.STATES.with_scale('50m'))\n",
    "\n",
    "plt.title('GOES-16 NDWI', loc='left', fontweight='semibold', fontsize=15);\n",
    "plt.title('%s' % scan_start_16.strftime('%H:%M UTC %d %B %Y'), loc='right');\n",
    "plt.savefig('nutah_water_march16_2002_16.png')"
   ]
  },
  {
   "cell_type": "code",
   "execution_count": null,
   "metadata": {},
   "outputs": [],
   "source": [
    "# Location of Utah\n",
    "l = {'latitude': 39.75,\n",
    "     'longitude': -111.5}\n",
    "\n",
    "# Draw zoomed map\n",
    "mZ = Basemap(resolution='i', projection='cyl', area_thresh=50000,\\\n",
    "             llcrnrlon=l['longitude']-3.25, llcrnrlat=l['latitude']-3.25,\\\n",
    "             urcrnrlon=l['longitude']+3.25, urcrnrlat=l['latitude']+3.25,)\n",
    "# Now we can plot the GOES data on a zoomed in map centered over Utah.\n",
    "plt.figure(figsize=[12, 12])\n",
    "\n",
    "cmap = plt.get_cmap('GnBu')\n",
    "newmap = mZ.pcolormesh(lons, lats, NDWI, cmap=cmap, linewidth=0, latlon=True)\n",
    "#plt.colorbar(newmap)\n",
    "\n",
    "mZ.drawcoastlines()\n",
    "mZ.drawcountries()\n",
    "mZ.drawstates()\n",
    "\n",
    "plt.title('GOES-17 NDWI', loc='left', fontweight='semibold', fontsize=15);\n",
    "plt.title('%s' % scan_start.strftime('%H:%M UTC %d %B %Y'), loc='right');\n",
    "plt.savefig('utah_water_march16_2002.png')"
   ]
  },
  {
   "cell_type": "code",
   "execution_count": null,
   "metadata": {},
   "outputs": [],
   "source": [
    "\n",
    "# Location of western US\n",
    "l = {'latitude': 40.5,\n",
    "     'longitude': -118.}\n",
    "\n",
    "projection = ccrs.PlateCarree()\n",
    "\n",
    "# Now we can plot the GOES data on a zoomed in map centered over Utah.\n",
    "plt.figure(figsize=[24,24])\n",
    "\n",
    "cmap = plt.get_cmap('GnBu')\n",
    "\n",
    "ax = plt.axes(projection=projection)\n",
    "ax.set_extent([l['longitude']-4.5, l['longitude']+7, l['latitude']-5, l['latitude']+3], crs=projection)\n",
    "newmap = ax.pcolormesh(lons, lats, NDWI, cmap=cmap, linewidth=0, transform=projection)\n",
    "\n",
    "\n",
    "#plt.colorbar(newmap, ax=ax)\n",
    "\n",
    "ax.add_feature(cfeature.COASTLINE.with_scale('50m'))\n",
    "ax.add_feature(cfeature.STATES.with_scale('50m'))\n",
    "\n",
    "plt.title('GOES-17 NDWI', loc='left', fontweight='semibold', fontsize=15);\n",
    "plt.title('%s' % scan_start.strftime('%H:%M UTC %d %B %Y'), loc='right');\n",
    "plt.savefig('wus_water_march16_2002.png')"
   ]
  },
  {
   "cell_type": "code",
   "execution_count": null,
   "metadata": {},
   "outputs": [],
   "source": [
    " \n",
    "######################################################################\n",
    "# Using other projections\n",
    "# ----------------------------------------------\n",
    "#\n",
    "# Changing the projections with cartopy is straightforward. Here we use\n",
    "# the Lambert Conformal projection to display the GOES-16 data.\n",
    "\n",
    "# Location of western US\n",
    "l = {'latitude': 40,\n",
    "     'longitude': -118.}\n",
    "\n",
    "fig = plt.figure(figsize=(15, 12))\n",
    "\n",
    "\n",
    "semi_major = C_5['goes_imager_projection'].semi_major_axis\n",
    "semi_minor = C_5['goes_imager_projection'].semi_minor_axis\n",
    "globe = ccrs.Globe(semimajor_axis=semi_major, semiminor_axis=semi_minor)\n",
    "geos = ccrs.Geostationary(central_longitude=sat_lon, \n",
    "                         satellite_height=sat_h, globe=globe)\n",
    "\n",
    "cmap = plt.get_cmap('GnBu')\n",
    "\n",
    "#lc = ccrs.LambertConformal(central_longitude=-113,standard_parallels=(38.5,38.5))\n",
    "\n",
    "lc = ccrs.Orthographic(central_longitude=-118,central_latitude=40)\n",
    "\n",
    "ax = fig.add_subplot(1, 1, 1, projection=lc)\n",
    "ax.set_extent([l['longitude']-5, l['longitude']+7, l['latitude']-5, l['latitude']+5], crs=ccrs.PlateCarree())\n",
    "\n",
    "ax.imshow(np.flipud(NDWI), origin='lower',\n",
    "                   extent=(x.min(), x.max(), y.min(), y.max()),\n",
    "                   transform=geos,\n",
    "                   interpolation='none',cmap=cmap)\n",
    "ax.coastlines(resolution='50m', color='black', linewidth=1)\n",
    "ax.add_feature(cfeature.STATES.with_scale('50m'))\n",
    "\n",
    "\n",
    "plt.title('GOES-17 NDWI', loc='left', fontweight='semibold', fontsize=15);\n",
    "plt.title('%s' % scan_start.strftime('%H:%M UTC %d %B %Y'), loc='right');\n"
   ]
  },
  {
   "cell_type": "code",
   "execution_count": null,
   "metadata": {},
   "outputs": [],
   "source": [
    "# Location of western US\n",
    "l = {'latitude': 40.5,\n",
    "     'longitude': -118.}\n",
    "\n",
    "projection_16 = ccrs.PlateCarree()\n",
    "\n",
    "# Now we can plot the GOES data on a zoomed in map centered over Utah.\n",
    "plt.figure(figsize=[24,24])\n",
    "\n",
    "cmap = plt.get_cmap('GnBu')\n",
    "\n",
    "ax = plt.axes(projection=projection_16)\n",
    "ax.set_extent([l['longitude']-4.5, l['longitude']+7, l['latitude']-5, l['latitude']+3], crs=projection_16)\n",
    "newmap = ax.pcolormesh(lons, lats, NDWI, cmap=cmap, linewidth=0, transform=projection_16)\n",
    "\n",
    "\n",
    "#plt.colorbar(newmap, ax=ax)\n",
    "\n",
    "ax.add_feature(cfeature.COASTLINE.with_scale('50m'))\n",
    "ax.add_feature(cfeature.STATES.with_scale('50m'))\n",
    "\n",
    "plt.title('GOES-16 NDWI', loc='left', fontweight='semibold', fontsize=15);\n",
    "plt.title('%s' % scan_start.strftime('%H:%M UTC %d %B %Y'), loc='right');\n",
    "plt.savefig('wus_water_march16_2002_16.png')"
   ]
  },
  {
   "cell_type": "code",
   "execution_count": null,
   "metadata": {},
   "outputs": [],
   "source": [
    "\n",
    "#ax.scatter(lon, lat, transform=ccrs.Geodetic())\n",
    "# Location of western US\n",
    "#l = {'latitude': 40.5,\n",
    "#     'longitude': -118.}\n",
    "\n",
    "#projection = ccrs.AzimuthalEquidistant(central_longitude=-118., central_latitude=40.5)\n",
    "\n",
    "# Now we can plot the GOES data on a zoomed in map centered over Utah.\n",
    "#plt.figure(figsize=[24,24])\n",
    "\n",
    "#cmap = plt.get_cmap('BrBG')\n",
    "\n",
    "#ax = plt.axes(projection=projection)\n",
    "#ax.set_extent([l['longitude']-4.5, l['longitude']+7, l['latitude']-5, l['latitude']+3], crs=ccrs.Geodetic())\n",
    "#newmap = ax.pcolormesh(lons, lats, NDWI, cmap=cmap, linewidth=0, transform=ccrs.Geodetic())\n",
    "\n",
    "\n",
    "#plt.colorbar(newmap, ax=ax)\n",
    "\n",
    "#ax.add_feature(cfeature.COASTLINE.with_scale('50m'),transform=projection)\n",
    "#ax.add_feature(cfeature.STATES.with_scale('50m'))\n",
    "\n",
    "#plt.title('GOES-17 NDWI', loc='left', fontweight='semibold', fontsize=15);\n",
    "#plt.title('%s' % scan_start.strftime('%H:%M UTC %d %B %Y'), loc='right');"
   ]
  },
  {
   "cell_type": "code",
   "execution_count": null,
   "metadata": {},
   "outputs": [],
   "source": [
    "lons_i = np.arange(-114, -110, 0.25)\n",
    "lats_i = np.arange(39, 41, 0.25)\n",
    "xx_i, yy_i = np.meshgrid(lons_i,lats_i)\n",
    "dims_i = np.shape(xx_i)\n",
    "iy = len(lats_i)\n",
    "ix = len(lons_i)\n",
    "NDWI_I = np.ones((iy,ix))\n",
    "print(np.shape(NDWI_I))\n",
    "\n",
    "l = {'latitude': 40.,\n",
    "     'longitude': -112.}\n",
    "\n",
    "# Now we can plot the GOES data on a zoomed in map centered over Utah.\n",
    "plt.figure(figsize=[12,12])\n",
    "\n",
    "cmap = plt.get_cmap('GnBu')\n",
    "\n",
    "#lc = ccrs.LambertConformal(central_longitude=-113,standard_parallels=(38.5,38.5))\n",
    "lc = ccrs.PlateCarree()\n",
    "ax = plt.axes(projection=lc)\n",
    "ax.set_extent([l['longitude']-2, l['longitude']+2, l['latitude']-2, l['latitude']+2], crs=lc)\n",
    "newmap = ax.pcolormesh(lons_i, lats_i, NDWI_I, cmap=cmap, linewidth=0, transform=lc)\n",
    "\n",
    "ax.add_feature(cfeature.COASTLINE.with_scale('50m'))\n",
    "ax.add_feature(cfeature.STATES.with_scale('50m'))\n",
    "\n",
    "plt.title('GOES-16 NDWI', loc='left', fontweight='semibold', fontsize=15);\n",
    "plt.title('%s' % scan_start.strftime('%H:%M UTC %d %B %Y'), loc='right');\n"
   ]
  },
  {
   "cell_type": "code",
   "execution_count": null,
   "metadata": {},
   "outputs": [],
   "source": []
  },
  {
   "cell_type": "code",
   "execution_count": null,
   "metadata": {},
   "outputs": [],
   "source": []
  },
  {
   "cell_type": "code",
   "execution_count": null,
   "metadata": {},
   "outputs": [],
   "source": []
  }
 ],
 "metadata": {
  "kernelspec": {
   "display_name": "Python 3",
   "language": "python",
   "name": "python3"
  },
  "language_info": {
   "codemirror_mode": {
    "name": "ipython",
    "version": 3
   },
   "file_extension": ".py",
   "mimetype": "text/x-python",
   "name": "python",
   "nbconvert_exporter": "python",
   "pygments_lexer": "ipython3",
   "version": "3.7.1"
  }
 },
 "nbformat": 4,
 "nbformat_minor": 2
}
