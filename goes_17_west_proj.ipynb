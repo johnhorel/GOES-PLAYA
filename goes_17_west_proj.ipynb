{
 "cells": [
  {
   "cell_type": "markdown",
   "metadata": {},
   "source": [
    "## First, import the libraries we will use"
   ]
  },
  {
   "cell_type": "code",
   "execution_count": 1,
   "metadata": {},
   "outputs": [],
   "source": [
    "%matplotlib inline\n",
    "\n",
    "import numpy as np\n",
    "from datetime import datetime, timedelta\n",
    "from pyproj import Proj\n",
    "import xarray\n",
    "import matplotlib.pyplot as plt\n",
    "from mpl_toolkits.basemap import Basemap\n",
    "from scipy import spatial"
   ]
  },
  {
   "cell_type": "markdown",
   "metadata": {},
   "source": [
    "## Open the GOES-17 NetCDF File\n",
    "Using xarray, I assign the opened file to the variable C for the CONUS domain."
   ]
  },
  {
   "cell_type": "code",
   "execution_count": 2,
   "metadata": {},
   "outputs": [],
   "source": [
    "#GOES 16 all in one file\n",
    "#FILE = 'OR_ABI-L2-MCMIPC-M3_G16_s20190422102136_e20190422104509_c20190422105021.nc'\n",
    "\n",
    "#GOES 17 on Amazon, each channel in a different file\n",
    "FILE_5 ='OR_ABI-L2-CMIPC-M3C05_G17_s20190422102163_e20190422104536_c20190422105008.nc'\n",
    "FILE_3 = 'OR_ABI-L2-CMIPC-M3C03_G17_s20190422102163_e20190422104536_c20190422104597.nc'\n",
    "FILE_3 = 'OR_ABI-L2-CMIPM1-M3C03_G17_s20190461730268_e20190461730326_c20190461730375.nc'\n",
    "File_5 = 'OR_ABI-L2-CMIPM1-M3C05_G17_s20190461730268_e20190461730326_c20190461730375.nc'\n",
    "FILE_3 = 'OR_ABI-L2-CMIPC-M3C03_G17_s20190461732189_e20190461734562_c20190461735029.nc'\n",
    "FILE_5 = 'OR_ABI-L2-CMIPC-M3C05_G17_s20190461732189_e20190461734562_c20190461735030.nc'\n",
    "FILE_3 = 'OR_ABI-L2-CMIPM1-M3C03_G17_s20190461700268_e20190461700326_c20190461700370.nc'\n",
    "FILE_5 = 'OR_ABI-L2-CMIPM1-M3C05_G17_s20190461700268_e20190461700326_c20190461700373.nc'\n",
    "FILE_3 = 'OR_ABI-L2-CMIPC-M3C03_G17_s20190741802189_e20190741804562_c20190741805023.nc'\n",
    "FILE_5 = 'OR_ABI-L2-CMIPC-M3C05_G17_s20190741802189_e20190741804562_c20190741805035.nc'\n",
    "FILE_3 = 'OR_ABI-L2-CMIPC-M3C03_G17_s20190742102189_e20190742104562_c20190742105016.nc'\n",
    "FILE_5 = 'OR_ABI-L2-CMIPC-M3C05_G17_s20190742102189_e20190742104562_c20190742105023.nc'\n",
    "FILE_3 = 'OR_ABI-L2-CMIPC-M3C03_G17_s20190752002189_e20190752004562_c20190752005027.nc'\n",
    "FILE_5 = 'OR_ABI-L2-CMIPC-M3C05_G17_s20190752002189_e20190752004562_c20190752005028.nc'\n",
    "FILE_2 = 'OR_ABI-L2-CMIPC-M3C02_G17_s20190752002189_e20190752004562_c20190752005057.nc'\n",
    "\n",
    "FILE_3_16 = 'OR_ABI-L2-CMIPC-M3C03_G16_s20190752002189_e20190752004562_c20190752005035.nc'\n",
    "FILE_5_16 = 'OR_ABI-L2-CMIPC-M3C05_G16_s20190752002189_e20190752004562_c20190752005036.nc'\n",
    "\n",
    "# goes 17\n",
    "C_5 = xarray.open_dataset(FILE_5)\n",
    "C_3 = xarray.open_dataset(FILE_3)\n",
    "#channel 2 at finer spatial res\n",
    "#C_2 = xarray.open_dataset(FILE_2)\n"
   ]
  },
  {
   "cell_type": "code",
   "execution_count": 3,
   "metadata": {},
   "outputs": [
    {
     "data": {
      "text/plain": [
       "<xarray.DataArray 'goes_imager_projection' ()>\n",
       "array(-2147483647)\n",
       "Coordinates:\n",
       "    t        datetime64[ns] ...\n",
       "    y_image  float32 ...\n",
       "    x_image  float32 ...\n",
       "Attributes:\n",
       "    long_name:                       GOES-R ABI fixed grid projection\n",
       "    grid_mapping_name:               geostationary\n",
       "    perspective_point_height:        35786023.0\n",
       "    semi_major_axis:                 6378137.0\n",
       "    semi_minor_axis:                 6356752.31414\n",
       "    inverse_flattening:              298.2572221\n",
       "    latitude_of_projection_origin:   0.0\n",
       "    longitude_of_projection_origin:  -137.0\n",
       "    sweep_angle_axis:                x"
      ]
     },
     "execution_count": 3,
     "metadata": {},
     "output_type": "execute_result"
    }
   ],
   "source": [
    "#goes 17 info\n",
    "C_5['goes_imager_projection']"
   ]
  },
  {
   "cell_type": "code",
   "execution_count": 4,
   "metadata": {},
   "outputs": [],
   "source": [
    "# Satellite height goes 17\n",
    "sat_h = C_5['goes_imager_projection'].perspective_point_height\n",
    "\n",
    "# Satellite longitude\n",
    "#sat_lon = C_5['goes_imager_projection'].longitude_of_projection_origin\n",
    "#uncertainty whether at -137.2. -137 seems correct now\n",
    "sat_lon = -137\n",
    "\n",
    "# Satellite sweep\n",
    "sat_sweep = C_5['goes_imager_projection'].sweep_angle_axis\n",
    "\n",
    "# The projection x and y coordinates equals the scanning angle (in radians) multiplied by the satellite height\n",
    "# See details here: https://proj4.org/operations/projections/geos.html?highlight=geostationary\n",
    "x = C_5['x'][:] * sat_h\n",
    "y = C_5['y'][:] * sat_h"
   ]
  },
  {
   "cell_type": "code",
   "execution_count": 5,
   "metadata": {},
   "outputs": [],
   "source": [
    "import cartopy.crs as ccrs\n",
    "import cartopy.feature as cfeature\n",
    "\n",
    "projection = ccrs.Geostationary(central_longitude=sat_lon, satellite_height=sat_h,\n",
    "                               sweep_axis=sat_sweep)\n",
    "img_extent = (x.min(), x.max(), y.min(), y.max())\n",
    "\n"
   ]
  },
  {
   "cell_type": "markdown",
   "metadata": {},
   "source": [
    "#### The magic function: `pyproj.Proj`\n",
    "This function creates a map projection object of the geostationary projection."
   ]
  },
  {
   "cell_type": "code",
   "execution_count": 6,
   "metadata": {},
   "outputs": [
    {
     "name": "stdout",
     "output_type": "stream",
     "text": [
      "GOES 17 dimensions: 3000 5000\n"
     ]
    }
   ],
   "source": [
    "# Create a pyproj geostationary map object\n",
    "p = Proj(proj='geos', h=sat_h, lon_0=sat_lon, sweep=sat_sweep)\n",
    "\n",
    "# Perform cartographic transformation for goes 17. That is, convert image projection coordinates (x and y)\n",
    "# to latitude and longitude values.\n",
    "XX, YY = np.meshgrid(x, y)\n",
    "lons, lats = p(XX, YY, inverse=True)\n",
    "\n",
    "print('GOES 17 dimensions: %s %s' % np.shape(lons))\n"
   ]
  },
  {
   "cell_type": "code",
   "execution_count": 7,
   "metadata": {},
   "outputs": [
    {
     "name": "stdout",
     "output_type": "stream",
     "text": [
      "(15000000, 2)\n",
      "[[  53.51366846  175.58688993]\n",
      " [  53.51009397  175.62003143]\n",
      " [  53.50652579  175.65312979]\n",
      " ...\n",
      " [  14.80001316 -112.44766424]\n",
      " [  14.80021706 -112.43677203]\n",
      " [  14.80042107 -112.42587833]]\n",
      "(862500, 2)\n",
      "[[  35.5  -122.5 ]\n",
      " [  35.5  -122.49]\n",
      " [  35.5  -122.48]\n",
      " ...\n",
      " [  42.99 -111.03]\n",
      " [  42.99 -111.02]\n",
      " [  42.99 -111.01]]\n"
     ]
    }
   ],
   "source": [
    "lons_i = np.arange(-122.5, -111., 0.01)\n",
    "lats_i = np.arange(35.5, 43., 0.01)\n",
    "xx_i, yy_i = np.meshgrid(lons_i,lats_i)\n",
    "dims_i = np.shape(xx_i)\n",
    "iy = len(lats_i)\n",
    "ix = len(lons_i)\n",
    "lat_lon = np.dstack([lats.ravel(),lons.ravel()])[0]\n",
    "print(np.shape(lat_lon))\n",
    "print(lat_lon)\n",
    "lat_lon_i = np.dstack([yy_i.ravel(),xx_i.ravel()])[0]\n",
    "print(np.shape(lat_lon_i))\n",
    "print(lat_lon_i)"
   ]
  },
  {
   "cell_type": "code",
   "execution_count": 8,
   "metadata": {},
   "outputs": [
    {
     "name": "stdout",
     "output_type": "stream",
     "text": [
      "(3000, 5000)\n",
      "[0.00677684 0.00730895 0.00726418 ... 0.00913847 0.00535514 0.00582392]\n",
      "[5243745 5248746 5243746 ... 2634410 2639411 2639412]\n"
     ]
    }
   ],
   "source": [
    "\n",
    "print(np.shape(lats))\n",
    "distance,index = spatial.KDTree(lat_lon).query(lat_lon_i)\n",
    "print(distance)\n",
    "print(index)"
   ]
  },
  {
   "cell_type": "code",
   "execution_count": 9,
   "metadata": {},
   "outputs": [],
   "source": [
    "np.save('proj_west_17',index)"
   ]
  }
 ],
 "metadata": {
  "kernelspec": {
   "display_name": "Python 3",
   "language": "python",
   "name": "python3"
  },
  "language_info": {
   "codemirror_mode": {
    "name": "ipython",
    "version": 3
   },
   "file_extension": ".py",
   "mimetype": "text/x-python",
   "name": "python",
   "nbconvert_exporter": "python",
   "pygments_lexer": "ipython3",
   "version": "3.7.1"
  }
 },
 "nbformat": 4,
 "nbformat_minor": 2
}
